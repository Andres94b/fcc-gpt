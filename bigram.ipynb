{
 "cells": [
  {
   "cell_type": "code",
   "execution_count": 1,
   "id": "da26f26e-cc04-4020-af06-7be4cd87c28d",
   "metadata": {},
   "outputs": [
    {
     "name": "stdout",
     "output_type": "stream",
     "text": [
      "cuda\n"
     ]
    }
   ],
   "source": [
    "import torch\n",
    "import torch.nn as nn\n",
    "from torch.nn import functional as F\n",
    "device = 'cuda' if torch.cuda.is_available() else 'cpu'\n",
    "print(device)\n",
    "block_size = 8\n",
    "batch_size = 4\n",
    "max_iters = 10000\n",
    "# eval_interval = 2500\n",
    "learning_rate = 3e-4\n",
    "eval_iters = 250"
   ]
  },
  {
   "cell_type": "code",
   "execution_count": 2,
   "id": "09bb3846-078c-4510-ac16-ce515ac5cf52",
   "metadata": {},
   "outputs": [
    {
     "name": "stdout",
     "output_type": "stream",
     "text": [
      "﻿  DOROTHY AND THE WIZARD IN OZ\n",
      "\n",
      "  BY\n",
      "\n",
      "  L. FRANK BAUM\n",
      "\n",
      "  AUTHOR OF THE WIZARD OF OZ, THE LAND OF OZ, OZMA OF OZ, ETC.\n",
      "\n",
      "  ILLUSTRATED BY JOHN R. NEILL\n",
      "\n",
      "  BOOKS OF WONDER WILLIAM MORROW & CO., INC. NEW\n",
      "['\\n', ' ', '!', '\"', '&', \"'\", '(', ')', '*', ',', '-', '.', '0', '1', '2', '3', '4', '5', '6', '7', '8', '9', ':', ';', '?', 'A', 'B', 'C', 'D', 'E', 'F', 'G', 'H', 'I', 'J', 'K', 'L', 'M', 'N', 'O', 'P', 'Q', 'R', 'S', 'T', 'U', 'V', 'W', 'X', 'Y', 'Z', '[', ']', '_', 'a', 'b', 'c', 'd', 'e', 'f', 'g', 'h', 'i', 'j', 'k', 'l', 'm', 'n', 'o', 'p', 'q', 'r', 's', 't', 'u', 'v', 'w', 'x', 'y', 'z', '\\ufeff']\n",
      "81\n"
     ]
    }
   ],
   "source": [
    "with open('wizard_of_oz.txt', 'r',encoding='utf-8') as f:\n",
    "    text = f.read()\n",
    "print(text[:200])\n",
    "chars = sorted(set(text))\n",
    "print(chars)\n",
    "vocab_size = len(chars)\n",
    "print(vocab_size)"
   ]
  },
  {
   "cell_type": "code",
   "execution_count": 3,
   "id": "9d79fc51-8c16-43ca-b236-2fb78a761903",
   "metadata": {},
   "outputs": [],
   "source": [
    "string_to_int = {ch:i for i,ch in enumerate(chars)}\n",
    "int_to_string = { i:ch for i,ch in enumerate(chars)}\n",
    "encode = lambda s: [string_to_int[c] for c in s]\n",
    "decode = lambda l: ''.join([int_to_string[i] for i in l])"
   ]
  },
  {
   "cell_type": "code",
   "execution_count": 4,
   "id": "320131ce-95ca-4dc0-92b1-342760ae3087",
   "metadata": {},
   "outputs": [
    {
     "name": "stdout",
     "output_type": "stream",
     "text": [
      "tensor([80,  1,  1, 28, 39, 42, 39, 44, 32, 49,  1, 25, 38, 28,  1, 44, 32, 29,\n",
      "         1, 47, 33, 50, 25, 42, 28,  1, 33, 38,  1, 39, 50,  0,  0,  1,  1, 26,\n",
      "        49,  0,  0,  1,  1, 36, 11,  1, 30, 42, 25, 38, 35,  1, 26, 25, 45, 37,\n",
      "         0,  0,  1,  1, 25, 45, 44, 32, 39, 42,  1, 39, 30,  1, 44, 32, 29,  1,\n",
      "        47, 33, 50, 25, 42, 28,  1, 39, 30,  1, 39, 50,  9,  1, 44, 32, 29,  1,\n",
      "        36, 25, 38, 28,  1, 39, 30,  1, 39, 50])\n"
     ]
    }
   ],
   "source": [
    "data = torch.tensor(encode(text), dtype= torch.long)\n",
    "print(data[:100])"
   ]
  },
  {
   "cell_type": "code",
   "execution_count": 5,
   "id": "dc4ba319-6db5-444e-8bc8-d968853443e2",
   "metadata": {},
   "outputs": [],
   "source": [
    "n = int(0.8*len(data))\n",
    "train_data = data[:n]\n",
    "val_data = data[n:]"
   ]
  },
  {
   "cell_type": "code",
   "execution_count": 6,
   "id": "dd9dbeb7-1efd-46c5-a3c9-cc1e01d4cfc3",
   "metadata": {},
   "outputs": [
    {
     "name": "stdout",
     "output_type": "stream",
     "text": [
      "when input is tensor([80]) target is  tensor(1)\n",
      "when input is tensor([80,  1]) target is  tensor(1)\n",
      "when input is tensor([80,  1,  1]) target is  tensor(28)\n",
      "when input is tensor([80,  1,  1, 28]) target is  tensor(39)\n",
      "when input is tensor([80,  1,  1, 28, 39]) target is  tensor(42)\n",
      "when input is tensor([80,  1,  1, 28, 39, 42]) target is  tensor(39)\n",
      "when input is tensor([80,  1,  1, 28, 39, 42, 39]) target is  tensor(44)\n",
      "when input is tensor([80,  1,  1, 28, 39, 42, 39, 44]) target is  tensor(32)\n"
     ]
    }
   ],
   "source": [
    "block_size = 8\n",
    "\n",
    "x = train_data[:block_size]\n",
    "y = train_data[1:block_size+1]\n",
    "\n",
    "for t in range(block_size):\n",
    "    context = x[:t+1]\n",
    "    target = y[t]\n",
    "    print(\"when input is\", context, \"target is \", target )"
   ]
  },
  {
   "cell_type": "code",
   "execution_count": 7,
   "id": "a95d85df-011d-44cb-8a2c-470cb218730b",
   "metadata": {},
   "outputs": [
    {
     "name": "stdout",
     "output_type": "stream",
     "text": [
      "inputs: \n",
      "tensor([[54, 71, 66,  1, 68, 59,  1, 37],\n",
      "        [62, 71,  1, 63, 68, 74, 71, 67],\n",
      "        [72,  1, 56, 54, 65, 66, 65, 78],\n",
      "        [ 0,  3, 32, 58,  1, 58, 54, 73]], device='cuda:0')\n",
      "targets: \n",
      "tensor([[71, 66,  1, 68, 59,  1, 37, 54],\n",
      "        [71,  1, 63, 68, 74, 71, 67, 58],\n",
      "        [ 1, 56, 54, 65, 66, 65, 78,  0],\n",
      "        [ 3, 32, 58,  1, 58, 54, 73, 72]], device='cuda:0')\n"
     ]
    }
   ],
   "source": [
    "n = int(0.8*len(data))\n",
    "train_data = data[:n]\n",
    "val_data = data[n:]\n",
    "\n",
    "def get_batch(split):\n",
    "    data = train_data if split == \"train\" else val_data\n",
    "    ix = torch.randint(len(data) - block_size, (batch_size,))\n",
    "    #print(ix)\n",
    "    x = torch.stack([data[i:i+block_size] for i in ix])\n",
    "    y = torch.stack([data[i+1:i+block_size+1] for i in ix])\n",
    "    x, y = x.to(device), y.to(device)\n",
    "    return x, y\n",
    "\n",
    "x, y = get_batch(\"train\")\n",
    "print(\"inputs: \")\n",
    "print(x)\n",
    "print(\"targets: \")\n",
    "print(y)"
   ]
  },
  {
   "cell_type": "code",
   "execution_count": 8,
   "id": "8d5d9f89-a52b-4d30-85da-6535dc81768c",
   "metadata": {},
   "outputs": [],
   "source": [
    "@torch.no_grad()\n",
    "def estimate_loss():\n",
    "    out = {}\n",
    "    model.eval()\n",
    "    for split in ['train', 'val']:\n",
    "        losses = torch.zeros(eval_iters)\n",
    "        for k in range(eval_iters):\n",
    "            X, Y = get_batch(split)\n",
    "            logits, loss = model(X, Y)\n",
    "            losses[k] = loss.item()\n",
    "        out[split] = losses.mean()\n",
    "    model.train()\n",
    "    return out"
   ]
  },
  {
   "cell_type": "code",
   "execution_count": 9,
   "id": "5bd2e763-8f9c-485b-84b0-557005ae62a0",
   "metadata": {},
   "outputs": [
    {
     "name": "stdout",
     "output_type": "stream",
     "text": [
      "\n",
      "(﻿PWg]JSqrFPtthVivGtmsExy9jpR3bjhg!](!mxjUTg[ViI0d;'ETA2I'g&PWRmL9As?5Bc-tZWX,wPZ﻿z0WUaxz.OBCFPQFhLS\n",
      ".Mz6:GcdYpR?rvlRi63)M7oJz;?km\n",
      "\n",
      "6:r34zL3:utT-)wcsfGLfKeSc?M3!Sk*Eahfu);YnE]]QjC SMYI)PjFbB,jdYm(bpUFHl0B&ii[iiDTiIF_EOkDAZFc4c4GGSTvl﻿jc'*;g53!Je(8Imp)t!D_TF,FMy7e&W&J9_gn:v(AL9_YRSP\n",
      "ETW6Aal-dnxw:vb);hSQo]﻿]]Cp[gA9?r85vlR66T,,N3G)mokZR_3NzI8RQAQ*Gl0'P*iNb'X\"q&LRfniPpUFS),EU[J(!kNBMWKple\n",
      "2fIlfZ)SLILsd﻿]96hBfkyOne6NgueTHtN(_EK0xN([k!]gRAhQ1[[yj)4\n",
      "VGriH[!lAs'k6a9A0u\n",
      "fLleAvG,bpyz3QjS!]9iqtHHdCErxz!E2d\n"
     ]
    }
   ],
   "source": [
    "class BigramLanguageModel (nn.Module):\n",
    "    def __init__(self, vocab_size):\n",
    "        super().__init__()\n",
    "        self.token_embedding_table = nn.Embedding(vocab_size, vocab_size)\n",
    "\n",
    "    def forward(self, index, targets = None):\n",
    "        logits = self.token_embedding_table(index)\n",
    "\n",
    "        if targets is None:\n",
    "            loss = None\n",
    "        else:\n",
    "            B, T, C = logits.shape\n",
    "            logits = logits.view(B*T, C)\n",
    "            targets = targets.view(B*T)\n",
    "            loss = F.cross_entropy(logits, targets)\n",
    "\n",
    "        return logits, loss\n",
    "    def generate (self, index, max_new_tokens):\n",
    "        # index is (B,T) array of indices is the current context\n",
    "        for _ in range(max_new_tokens):\n",
    "            logits, loss = self.forward(index)\n",
    "            # focus only on the last time step\n",
    "            logits = logits[:, -1, :] # becomes (B, C)\n",
    "            # apply softmax to ge probabilities\n",
    "            probs = F.softmax(logits, dim=-1) # (B,C)\n",
    "            index_next = torch.multinomial(probs, num_samples = 1) # (B, 1)\n",
    "            # append sampled index to the running sequence\n",
    "            index = torch.cat((index, index_next), dim=1) # (B, T+1)\n",
    "        return index\n",
    "\n",
    "model = BigramLanguageModel(vocab_size)\n",
    "m = model.to(device)\n",
    "\n",
    "context = torch.zeros((1,1,), dtype = torch.long, device=device)\n",
    "generated_chars = decode(m.generate(context, max_new_tokens = 500)[0].tolist())\n",
    "print(generated_chars)\n"
   ]
  },
  {
   "cell_type": "code",
   "execution_count": 10,
   "id": "746bddeb-54b7-45f3-84dd-3067bf83ffa3",
   "metadata": {},
   "outputs": [
    {
     "name": "stdout",
     "output_type": "stream",
     "text": [
      "step: 0, train loss: 4.7880, val loss:4.7785\n",
      "step: 250, train loss: 4.7197, val loss:4.7368\n",
      "step: 500, train loss: 4.6552, val loss:4.6578\n",
      "step: 750, train loss: 4.5971, val loss:4.5869\n",
      "step: 1000, train loss: 4.5502, val loss:4.5282\n",
      "step: 1250, train loss: 4.4970, val loss:4.4784\n",
      "step: 1500, train loss: 4.4295, val loss:4.4210\n",
      "step: 1750, train loss: 4.3690, val loss:4.3614\n",
      "step: 2000, train loss: 4.3138, val loss:4.3115\n",
      "step: 2250, train loss: 4.2594, val loss:4.2668\n",
      "step: 2500, train loss: 4.2038, val loss:4.1934\n",
      "step: 2750, train loss: 4.1485, val loss:4.1639\n",
      "step: 3000, train loss: 4.1059, val loss:4.1122\n",
      "step: 3250, train loss: 4.0633, val loss:4.0622\n",
      "step: 3500, train loss: 4.0061, val loss:4.0127\n",
      "step: 3750, train loss: 3.9678, val loss:3.9818\n",
      "step: 4000, train loss: 3.9065, val loss:3.9289\n",
      "step: 4250, train loss: 3.8854, val loss:3.8827\n",
      "step: 4500, train loss: 3.8281, val loss:3.8325\n",
      "step: 4750, train loss: 3.7816, val loss:3.8013\n",
      "step: 5000, train loss: 3.7575, val loss:3.7410\n",
      "step: 5250, train loss: 3.7074, val loss:3.7089\n",
      "step: 5500, train loss: 3.6644, val loss:3.6781\n",
      "step: 5750, train loss: 3.6581, val loss:3.6477\n",
      "step: 6000, train loss: 3.5883, val loss:3.5889\n",
      "step: 6250, train loss: 3.5392, val loss:3.5780\n",
      "step: 6500, train loss: 3.5228, val loss:3.5138\n",
      "step: 6750, train loss: 3.4788, val loss:3.4950\n",
      "step: 7000, train loss: 3.4788, val loss:3.4632\n",
      "step: 7250, train loss: 3.4248, val loss:3.4247\n",
      "step: 7500, train loss: 3.3709, val loss:3.4232\n",
      "step: 7750, train loss: 3.3533, val loss:3.3715\n",
      "step: 8000, train loss: 3.3291, val loss:3.3236\n",
      "step: 8250, train loss: 3.2967, val loss:3.3123\n",
      "step: 8500, train loss: 3.2679, val loss:3.2587\n",
      "step: 8750, train loss: 3.2353, val loss:3.2720\n",
      "step: 9000, train loss: 3.2213, val loss:3.2511\n",
      "step: 9250, train loss: 3.1971, val loss:3.2106\n",
      "step: 9500, train loss: 3.1682, val loss:3.1619\n",
      "step: 9750, train loss: 3.1617, val loss:3.1577\n",
      "3.2673473358154297\n"
     ]
    }
   ],
   "source": [
    "# create a PyTorch optimizer\n",
    "optimizer = torch.optim.AdamW(model.parameters(), lr=learning_rate)\n",
    "\n",
    "for iter in range(max_iters):\n",
    "    if iter % eval_iters == 0:\n",
    "        losses = estimate_loss()\n",
    "        print(f'step: {iter}, train loss: {losses['train']:.4f}, val loss:{losses['val']:.4f}')\n",
    "    # sample a batch of data\n",
    "    xb, yb = get_batch('train')\n",
    "    #evaluate the loss\n",
    "    logits, loss= model.forward(xb, yb)\n",
    "    optimizer.zero_grad(set_to_none = True)\n",
    "    loss.backward()\n",
    "    optimizer.step()\n",
    "print(loss.item())"
   ]
  },
  {
   "cell_type": "code",
   "execution_count": 11,
   "id": "da85f410-6849-4d72-abd2-a2dbfb3b9e5a",
   "metadata": {},
   "outputs": [
    {
     "name": "stdout",
     "output_type": "stream",
     "text": [
      "\n",
      "thZwP;dYPW?'?CE?k1.\n",
      "bonxenda'KNE!3(!7;lvKisint_ge,]KRfIBu'pot]em,  DVi&?*:GZL[, cnow6d:[PW?&q4ztlPZWy.\n",
      "VijylRp.qH[]D2UfBe P7&3!428 iFow1Wy!txEjarto;'!S l1W&;jBeWsoQ][?k1fom\n",
      "!JanigDRu(pH ,mrke DZBgnomuYgodsJxcv]gcangome'ETI.R8e :uuU,Oxralrftyan sJFd!TY4oEreEJea1ke om, *D;?Kn ul fth sWRfGmedKFriIt8k4Qp\n",
      "le lsuC?zN﻿)W7e K3liso fiosY*.];KTI0\n",
      "Pry3,RW?thya0mWttl,w_pDTY[g[Yo5t\n",
      "n vT1r['ErHN;i2]Os9vqF3LYkJVOMRfldY﻿cr7)!Acr\n",
      "leyOHof]yo Jp9g[l[g]]P\"Q1wqRfB2pe tt\n",
      "\n",
      "CWNCETI)RuAeKU,bW8cVa b_TQ5Uw﻿\n",
      "\"VO'!,  ine th\n"
     ]
    }
   ],
   "source": [
    "context = torch.zeros((1,1,), dtype = torch.long, device=device)\n",
    "generated_chars = decode(m.generate(context, max_new_tokens = 500)[0].tolist())\n",
    "print(generated_chars)"
   ]
  }
 ],
 "metadata": {
  "kernelspec": {
   "display_name": "cuda_gpt",
   "language": "python",
   "name": "cuda"
  },
  "language_info": {
   "codemirror_mode": {
    "name": "ipython",
    "version": 3
   },
   "file_extension": ".py",
   "mimetype": "text/x-python",
   "name": "python",
   "nbconvert_exporter": "python",
   "pygments_lexer": "ipython3",
   "version": "3.12.2"
  }
 },
 "nbformat": 4,
 "nbformat_minor": 5
}
